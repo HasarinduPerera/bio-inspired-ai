{
 "cells": [
  {
   "cell_type": "markdown",
   "metadata": {
    "id": "g6KfL1oa8BHM"
   },
   "source": [
    "# Bio-inspired Artificial Intelligence Algorithms - Genetic Algorithms"
   ]
  },
  {
   "cell_type": "markdown",
   "metadata": {
    "id": "yfzxdDWY8K-x"
   },
   "source": [
    "# Representation of the problem - fligth schedule"
   ]
  },
  {
   "cell_type": "code",
   "execution_count": 1,
   "metadata": {
    "id": "vJnVKVEEjck4"
   },
   "outputs": [],
   "source": [
    "import time\n",
    "import random\n",
    "import math\n",
    "import sys"
   ]
  },
  {
   "cell_type": "code",
   "execution_count": 2,
   "metadata": {
    "id": "B-UMr6XUjmox"
   },
   "outputs": [],
   "source": [
    "people = [('Lisbon', 'LIS'),\n",
    "          ('Madrid', 'MAD'),\n",
    "          ('Paris', 'CDG'),\n",
    "          ('Dublin', 'DUB'),\n",
    "          ('Brussels', 'BRU'),\n",
    "          ('London', 'LHR')]"
   ]
  },
  {
   "cell_type": "code",
   "execution_count": 3,
   "metadata": {
    "colab": {
     "base_uri": "https://localhost:8080/"
    },
    "id": "ak3srDnFkDyq",
    "outputId": "ae329282-9988-425a-95ea-e4358db48a13"
   },
   "outputs": [
    {
     "data": {
      "text/plain": [
       "('Brussels', 'BRU')"
      ]
     },
     "execution_count": 3,
     "metadata": {},
     "output_type": "execute_result"
    }
   ],
   "source": [
    "people[4]"
   ]
  },
  {
   "cell_type": "code",
   "execution_count": 4,
   "metadata": {
    "id": "pffvEddvkSqJ"
   },
   "outputs": [],
   "source": [
    "destiny = 'FCO' # Rome"
   ]
  },
  {
   "cell_type": "code",
   "execution_count": 5,
   "metadata": {
    "id": "LOZXvhbSl8Bm"
   },
   "outputs": [],
   "source": [
    "flights = {('BRU', 'FCO'): ['15:44', '18:55', 382]}"
   ]
  },
  {
   "cell_type": "code",
   "execution_count": 6,
   "metadata": {
    "colab": {
     "base_uri": "https://localhost:8080/"
    },
    "id": "w-HI2eaCmYn2",
    "outputId": "0d6e1cf7-afaf-4acd-d1fb-e480f46c2bcf"
   },
   "outputs": [
    {
     "data": {
      "text/plain": [
       "{('BRU', 'FCO'): ['15:44', '18:55', 382]}"
      ]
     },
     "execution_count": 6,
     "metadata": {},
     "output_type": "execute_result"
    }
   ],
   "source": [
    "flights"
   ]
  },
  {
   "cell_type": "code",
   "execution_count": 7,
   "metadata": {
    "colab": {
     "base_uri": "https://localhost:8080/"
    },
    "id": "HkfypkT7mdy2",
    "outputId": "70da74df-7ac4-4624-a122-6cbf82d3c56d"
   },
   "outputs": [
    {
     "data": {
      "text/plain": [
       "['15:44', '18:55', 382]"
      ]
     },
     "execution_count": 7,
     "metadata": {},
     "output_type": "execute_result"
    }
   ],
   "source": [
    "flights[('BRU', 'FCO')]"
   ]
  },
  {
   "cell_type": "code",
   "execution_count": 8,
   "metadata": {
    "colab": {
     "base_uri": "https://localhost:8080/"
    },
    "id": "zOprM_pvm5oE",
    "outputId": "9f239b1f-80ff-4209-925d-df11aa22be12"
   },
   "outputs": [
    {
     "data": {
      "text/plain": [
       "('15:44', '18:55', 382)"
      ]
     },
     "execution_count": 8,
     "metadata": {},
     "output_type": "execute_result"
    }
   ],
   "source": [
    "flights[('BRU', 'FCO')][0], flights[('BRU', 'FCO')][1], flights[('BRU', 'FCO')][2]"
   ]
  },
  {
   "cell_type": "code",
   "execution_count": 9,
   "metadata": {
    "id": "ApAlmTrRnGVl"
   },
   "outputs": [],
   "source": [
    "flights = {}\n",
    "for row in open('flights.txt'):\n",
    "  #print(row)\n",
    "  #print(row.split(','))\n",
    "  origin, destiny, departure, arrival, price = row.split(',')\n",
    "  #print(origin, destiny, departure, arrival, price)\n",
    "  flights.setdefault((origin, destiny), [])\n",
    "  flights[(origin, destiny)].append((departure, arrival, int(price)))"
   ]
  },
  {
   "cell_type": "code",
   "execution_count": 10,
   "metadata": {
    "colab": {
     "base_uri": "https://localhost:8080/"
    },
    "id": "mraMxzY_oGz4",
    "outputId": "8e11ba17-51c0-4834-9794-5911b16cd20f"
   },
   "outputs": [
    {
     "data": {
      "text/plain": [
       "{('FCO', 'LIS'): [('6:19', '8:13', 239),\n",
       "  ('8:04', '10:59', 136),\n",
       "  ('9:31', '11:43', 210),\n",
       "  ('11:07', '13:24', 171),\n",
       "  ('12:31', '14:02', 234),\n",
       "  ('14:05', '15:47', 226),\n",
       "  ('15:07', '17:21', 129),\n",
       "  ('16:35', '18:56', 144),\n",
       "  ('18:25', '20:34', 205),\n",
       "  ('20:05', '21:44', 172)],\n",
       " ('LIS', 'FCO'): [('6:11', '8:31', 249),\n",
       "  ('7:39', '10:24', 219),\n",
       "  ('9:15', '12:03', 99),\n",
       "  ('11:08', '13:07', 175),\n",
       "  ('12:18', '14:56', 172),\n",
       "  ('13:37', '15:08', 250),\n",
       "  ('15:03', '16:42', 135),\n",
       "  ('16:51', '19:09', 147),\n",
       "  ('18:12', '20:17', 242),\n",
       "  ('20:05', '22:06', 261)],\n",
       " ('FCO', 'MAD'): [('6:03', '8:43', 219),\n",
       "  ('7:50', '10:08', 164),\n",
       "  ('9:11', '10:42', 172),\n",
       "  ('10:33', '13:11', 132),\n",
       "  ('12:08', '14:47', 231),\n",
       "  ('14:19', '17:09', 190),\n",
       "  ('15:04', '17:23', 189),\n",
       "  ('17:06', '20:00', 95),\n",
       "  ('18:33', '20:22', 143),\n",
       "  ('19:32', '21:25', 160)],\n",
       " ('MAD', 'FCO'): [('6:05', '8:32', 174),\n",
       "  ('8:25', '10:34', 157),\n",
       "  ('9:42', '11:32', 169),\n",
       "  ('11:01', '12:39', 260),\n",
       "  ('12:44', '14:17', 134),\n",
       "  ('14:22', '16:32', 126),\n",
       "  ('15:58', '18:40', 173),\n",
       "  ('16:43', '19:00', 246),\n",
       "  ('18:48', '21:45', 246),\n",
       "  ('19:50', '22:24', 269)],\n",
       " ('FCO', 'CDG'): [('6:33', '9:14', 172),\n",
       "  ('8:23', '11:07', 143),\n",
       "  ('9:25', '12:46', 295),\n",
       "  ('11:08', '14:38', 262),\n",
       "  ('12:37', '15:05', 170),\n",
       "  ('14:08', '16:09', 232),\n",
       "  ('15:23', '18:49', 150),\n",
       "  ('16:50', '19:26', 304),\n",
       "  ('18:07', '21:30', 355),\n",
       "  ('20:27', '23:42', 169)],\n",
       " ('CDG', 'FCO'): [('6:25', '9:30', 335),\n",
       "  ('7:34', '9:40', 324),\n",
       "  ('9:15', '12:29', 225),\n",
       "  ('11:28', '14:40', 248),\n",
       "  ('12:05', '15:30', 330),\n",
       "  ('14:01', '17:24', 338),\n",
       "  ('15:34', '18:11', 326),\n",
       "  ('17:07', '20:04', 291),\n",
       "  ('18:23', '21:35', 134),\n",
       "  ('19:53', '22:21', 173)],\n",
       " ('FCO', 'DUB'): [('6:39', '8:09', 86),\n",
       "  ('8:23', '10:28', 149),\n",
       "  ('9:58', '11:18', 130),\n",
       "  ('10:33', '12:03', 74),\n",
       "  ('12:08', '14:05', 142),\n",
       "  ('13:39', '15:30', 74),\n",
       "  ('15:25', '16:58', 62),\n",
       "  ('17:03', '18:03', 103),\n",
       "  ('18:24', '20:49', 124),\n",
       "  ('19:58', '21:23', 142)],\n",
       " ('DUB', 'FCO'): [('6:17', '8:26', 89),\n",
       "  ('8:04', '10:11', 95),\n",
       "  ('9:45', '11:50', 172),\n",
       "  ('11:16', '13:29', 83),\n",
       "  ('12:34', '15:02', 109),\n",
       "  ('13:40', '15:37', 138),\n",
       "  ('15:27', '17:18', 151),\n",
       "  ('17:11', '18:30', 108),\n",
       "  ('18:34', '19:36', 136),\n",
       "  ('20:17', '22:22', 102)],\n",
       " ('FCO', 'BRU'): [('6:09', '9:49', 414),\n",
       "  ('7:57', '11:15', 347),\n",
       "  ('9:49', '13:51', 229),\n",
       "  ('10:51', '14:16', 256),\n",
       "  ('12:20', '16:34', 500),\n",
       "  ('14:20', '17:32', 332),\n",
       "  ('15:49', '20:10', 497),\n",
       "  ('17:14', '20:59', 277),\n",
       "  ('18:44', '22:42', 351),\n",
       "  ('19:57', '23:15', 512)],\n",
       " ('BRU', 'FCO'): [('6:12', '10:22', 230),\n",
       "  ('7:53', '11:37', 433),\n",
       "  ('9:08', '12:12', 364),\n",
       "  ('10:30', '14:57', 290),\n",
       "  ('12:19', '15:25', 342),\n",
       "  ('13:54', '18:02', 294),\n",
       "  ('15:44', '18:55', 382),\n",
       "  ('16:52', '20:48', 448),\n",
       "  ('18:26', '21:29', 464),\n",
       "  ('20:07', '23:27', 473)],\n",
       " ('FCO', 'LHR'): [('6:58', '9:01', 238),\n",
       "  ('8:19', '11:16', 122),\n",
       "  ('9:58', '12:56', 249),\n",
       "  ('10:32', '13:16', 139),\n",
       "  ('12:01', '13:41', 267),\n",
       "  ('13:37', '15:33', 142),\n",
       "  ('15:50', '18:45', 243),\n",
       "  ('16:33', '18:15', 253),\n",
       "  ('18:17', '21:04', 259),\n",
       "  ('19:46', '21:45', 214)],\n",
       " ('LHR', 'FCO'): [('6:08', '8:06', 224),\n",
       "  ('8:27', '10:45', 139),\n",
       "  ('9:15', '12:14', 247),\n",
       "  ('10:53', '13:36', 189),\n",
       "  ('12:08', '14:59', 149),\n",
       "  ('13:40', '15:38', 137),\n",
       "  ('15:23', '17:25', 232),\n",
       "  ('17:08', '19:08', 262),\n",
       "  ('18:35', '20:28', 204),\n",
       "  ('20:30', '23:11', 114)]}"
      ]
     },
     "execution_count": 10,
     "metadata": {},
     "output_type": "execute_result"
    }
   ],
   "source": [
    "flights"
   ]
  },
  {
   "cell_type": "code",
   "execution_count": 11,
   "metadata": {
    "colab": {
     "base_uri": "https://localhost:8080/"
    },
    "id": "VKJNi6bBouN1",
    "outputId": "81a3a99f-94f5-4b90-8e16-62689577e26b"
   },
   "outputs": [
    {
     "data": {
      "text/plain": [
       "[('6:11', '8:31', 249),\n",
       " ('7:39', '10:24', 219),\n",
       " ('9:15', '12:03', 99),\n",
       " ('11:08', '13:07', 175),\n",
       " ('12:18', '14:56', 172),\n",
       " ('13:37', '15:08', 250),\n",
       " ('15:03', '16:42', 135),\n",
       " ('16:51', '19:09', 147),\n",
       " ('18:12', '20:17', 242),\n",
       " ('20:05', '22:06', 261)]"
      ]
     },
     "execution_count": 11,
     "metadata": {},
     "output_type": "execute_result"
    }
   ],
   "source": [
    "flights[('LIS', 'FCO')]"
   ]
  },
  {
   "cell_type": "code",
   "execution_count": 12,
   "metadata": {
    "colab": {
     "base_uri": "https://localhost:8080/"
    },
    "id": "CFZS4slRo2ff",
    "outputId": "efc41a81-11cf-4bcf-ac9c-16a30f0786ef"
   },
   "outputs": [
    {
     "data": {
      "text/plain": [
       "[('6:19', '8:13', 239),\n",
       " ('8:04', '10:59', 136),\n",
       " ('9:31', '11:43', 210),\n",
       " ('11:07', '13:24', 171),\n",
       " ('12:31', '14:02', 234),\n",
       " ('14:05', '15:47', 226),\n",
       " ('15:07', '17:21', 129),\n",
       " ('16:35', '18:56', 144),\n",
       " ('18:25', '20:34', 205),\n",
       " ('20:05', '21:44', 172)]"
      ]
     },
     "execution_count": 12,
     "metadata": {},
     "output_type": "execute_result"
    }
   ],
   "source": [
    "flights[('FCO', 'LIS')]"
   ]
  },
  {
   "cell_type": "code",
   "execution_count": 13,
   "metadata": {
    "colab": {
     "base_uri": "https://localhost:8080/"
    },
    "id": "NEUdDXq1qNWS",
    "outputId": "ed4809b7-4302-4552-af28-5ec3d1489e3a"
   },
   "outputs": [
    {
     "data": {
      "text/plain": [
       "[('6:05', '8:32', 174),\n",
       " ('8:25', '10:34', 157),\n",
       " ('9:42', '11:32', 169),\n",
       " ('11:01', '12:39', 260),\n",
       " ('12:44', '14:17', 134),\n",
       " ('14:22', '16:32', 126),\n",
       " ('15:58', '18:40', 173),\n",
       " ('16:43', '19:00', 246),\n",
       " ('18:48', '21:45', 246),\n",
       " ('19:50', '22:24', 269)]"
      ]
     },
     "execution_count": 13,
     "metadata": {},
     "output_type": "execute_result"
    }
   ],
   "source": [
    "flights[('MAD', 'FCO')]"
   ]
  },
  {
   "cell_type": "code",
   "execution_count": 14,
   "metadata": {
    "colab": {
     "base_uri": "https://localhost:8080/"
    },
    "id": "UwYaOdZ1qXWm",
    "outputId": "140de81b-1a9d-4ae4-cc92-72643e654642"
   },
   "outputs": [
    {
     "data": {
      "text/plain": [
       "[('6:03', '8:43', 219),\n",
       " ('7:50', '10:08', 164),\n",
       " ('9:11', '10:42', 172),\n",
       " ('10:33', '13:11', 132),\n",
       " ('12:08', '14:47', 231),\n",
       " ('14:19', '17:09', 190),\n",
       " ('15:04', '17:23', 189),\n",
       " ('17:06', '20:00', 95),\n",
       " ('18:33', '20:22', 143),\n",
       " ('19:32', '21:25', 160)]"
      ]
     },
     "execution_count": 14,
     "metadata": {},
     "output_type": "execute_result"
    }
   ],
   "source": [
    "flights[('FCO', 'MAD')]"
   ]
  },
  {
   "cell_type": "code",
   "execution_count": 15,
   "metadata": {
    "id": "Caqbs-AIpnwI"
   },
   "outputs": [],
   "source": [
    "# [1,4, 3,2, 7,3, 6,3, 2,4, 5,3]"
   ]
  },
  {
   "cell_type": "code",
   "execution_count": 16,
   "metadata": {
    "colab": {
     "base_uri": "https://localhost:8080/"
    },
    "id": "bCK2xuzDrP0b",
    "outputId": "7802bce0-33d2-4092-8165-d665b499da91"
   },
   "outputs": [
    {
     "data": {
      "text/plain": [
       "6"
      ]
     },
     "execution_count": 16,
     "metadata": {},
     "output_type": "execute_result"
    }
   ],
   "source": [
    "len([1,4, 3,2, 7,3, 6,3, 2,4, 5,3]) // 2"
   ]
  },
  {
   "cell_type": "code",
   "execution_count": 17,
   "metadata": {
    "colab": {
     "base_uri": "https://localhost:8080/"
    },
    "id": "pppsLLbOrpOo",
    "outputId": "866a015d-d054-4f13-bd54-90a7507f148f"
   },
   "outputs": [
    {
     "data": {
      "text/plain": [
       "[('Lisbon', 'LIS'),\n",
       " ('Madrid', 'MAD'),\n",
       " ('Paris', 'CDG'),\n",
       " ('Dublin', 'DUB'),\n",
       " ('Brussels', 'BRU'),\n",
       " ('London', 'LHR')]"
      ]
     },
     "execution_count": 17,
     "metadata": {},
     "output_type": "execute_result"
    }
   ],
   "source": [
    "people"
   ]
  },
  {
   "cell_type": "code",
   "execution_count": 18,
   "metadata": {
    "id": "J5gKmkjbq3Q8"
   },
   "outputs": [],
   "source": [
    "def print_schedule(schedule):\n",
    "  flight_id = -1\n",
    "  total_price = 0\n",
    "  for i in range(len(schedule) // 2):\n",
    "    name = people[i][0]\n",
    "    #print(name)\n",
    "    origin = people[i][1]\n",
    "    #print(origin)\n",
    "    flight_id += 1\n",
    "    going = flights[(origin, destiny)][schedule[flight_id]]\n",
    "    #print('First flight' + str(going))\n",
    "    total_price += going[2]\n",
    "    flight_id += 1\n",
    "    returning = flights[(destiny, origin)][schedule[flight_id]]\n",
    "    #print('Returning flight' + str(returning))\n",
    "    total_price += returning[2]\n",
    "    print('%10s%10s %5s-%5s U$%3s %5s-%5s U$%3s' % (name, origin, going[0], going[1], going[2],\n",
    "                                                    returning[0], returning[1], returning[2]))\n",
    "  print('Total price: ', total_price)"
   ]
  },
  {
   "cell_type": "code",
   "execution_count": 19,
   "metadata": {
    "colab": {
     "base_uri": "https://localhost:8080/"
    },
    "id": "o4WdgqU5rysv",
    "outputId": "ff9d689a-be95-4397-ba13-fd6278f9230c"
   },
   "outputs": [
    {
     "name": "stdout",
     "output_type": "stream",
     "text": [
      "    Lisbon       LIS 16:51-19:09 U$147 11:07-13:24 U$171\n",
      "    Madrid       MAD 11:01-12:39 U$260  9:11-10:42 U$172\n",
      "     Paris       CDG 17:07-20:04 U$291 11:08-14:38 U$262\n",
      "    Dublin       DUB 15:27-17:18 U$151 10:33-12:03 U$ 74\n",
      "  Brussels       BRU  9:08-12:12 U$364 12:20-16:34 U$500\n",
      "    London       LHR 13:40-15:38 U$137 19:46-21:45 U$214\n",
      "Total price:  2743\n"
     ]
    }
   ],
   "source": [
    "print_schedule([7,3, 3,2, 7,3, 6,3, 2,4, 5,9])"
   ]
  },
  {
   "cell_type": "code",
   "execution_count": 20,
   "metadata": {
    "id": "Z6HxC1c4vyi3"
   },
   "outputs": [],
   "source": [
    "t = time.strptime('7:39', '%H:%M')"
   ]
  },
  {
   "cell_type": "code",
   "execution_count": 21,
   "metadata": {
    "colab": {
     "base_uri": "https://localhost:8080/"
    },
    "id": "6j3vHgOVwCZW",
    "outputId": "24b2078f-33e8-4e08-b445-268cdcd9d299"
   },
   "outputs": [
    {
     "data": {
      "text/plain": [
       "time.struct_time(tm_year=1900, tm_mon=1, tm_mday=1, tm_hour=7, tm_min=39, tm_sec=0, tm_wday=0, tm_yday=1, tm_isdst=-1)"
      ]
     },
     "execution_count": 21,
     "metadata": {},
     "output_type": "execute_result"
    }
   ],
   "source": [
    "t"
   ]
  },
  {
   "cell_type": "code",
   "execution_count": 22,
   "metadata": {
    "colab": {
     "base_uri": "https://localhost:8080/"
    },
    "id": "2aqiHISzwTUi",
    "outputId": "6c113ce9-cce6-492e-abf1-a0e14586070e"
   },
   "outputs": [
    {
     "data": {
      "text/plain": [
       "(7, 39, 459)"
      ]
     },
     "execution_count": 22,
     "metadata": {},
     "output_type": "execute_result"
    }
   ],
   "source": [
    "t[3], t[4], t[3] * 60 + t[4]"
   ]
  },
  {
   "cell_type": "code",
   "execution_count": 23,
   "metadata": {
    "id": "WjShx0Duwwvx"
   },
   "outputs": [],
   "source": [
    "def get_minutes(hour):\n",
    "  t = time.strptime(hour, '%H:%M')\n",
    "  minutes = t[3] * 60 + t[4]\n",
    "  return minutes"
   ]
  },
  {
   "cell_type": "code",
   "execution_count": 24,
   "metadata": {
    "colab": {
     "base_uri": "https://localhost:8080/"
    },
    "id": "FA68s0-4w8Sv",
    "outputId": "8e4d1bf0-0821-488d-efab-07c64fbeeddd"
   },
   "outputs": [
    {
     "data": {
      "text/plain": [
       "(459, 632, 490)"
      ]
     },
     "execution_count": 24,
     "metadata": {},
     "output_type": "execute_result"
    }
   ],
   "source": [
    "get_minutes('7:39'), get_minutes('10:32'), get_minutes('08:10')"
   ]
  },
  {
   "cell_type": "markdown",
   "metadata": {
    "id": "O-sxvdN08XTI"
   },
   "source": [
    "# Fitness function"
   ]
  },
  {
   "cell_type": "code",
   "execution_count": 25,
   "metadata": {
    "colab": {
     "base_uri": "https://localhost:8080/"
    },
    "id": "W0E5grcCQaZV",
    "outputId": "f41f269b-c110-4d47-fd1c-fd893d5d06a1"
   },
   "outputs": [
    {
     "data": {
      "text/plain": [
       "1439"
      ]
     },
     "execution_count": 25,
     "metadata": {},
     "output_type": "execute_result"
    }
   ],
   "source": [
    "get_minutes('23:59')"
   ]
  },
  {
   "cell_type": "code",
   "execution_count": 26,
   "metadata": {
    "colab": {
     "base_uri": "https://localhost:8080/"
    },
    "id": "6i4buSIgQkLo",
    "outputId": "d5f0542d-56aa-4204-a82f-0d48772d9eb6"
   },
   "outputs": [
    {
     "data": {
      "text/plain": [
       "0"
      ]
     },
     "execution_count": 26,
     "metadata": {},
     "output_type": "execute_result"
    }
   ],
   "source": [
    "get_minutes('00:00')"
   ]
  },
  {
   "cell_type": "code",
   "execution_count": 27,
   "metadata": {
    "id": "1rdilSUIPXQE"
   },
   "outputs": [],
   "source": [
    "def fitness_function(schedule):\n",
    "  total_price = 0\n",
    "  last_arrival = 0\n",
    "  first_departure = 1439\n",
    "\n",
    "  flight_id = -1\n",
    "  for i in range(len(schedule) // 2):\n",
    "    origin = people[i][1]\n",
    "    flight_id += 1\n",
    "    going = flights[(origin, destiny)][schedule[flight_id]]\n",
    "    flight_id += 1\n",
    "    returning = flights[(destiny, origin)][schedule[flight_id]]\n",
    "\n",
    "    total_price += going[2]\n",
    "    total_price += returning[2]\n",
    "\n",
    "    if last_arrival < get_minutes(going[1]):\n",
    "      last_arrival = get_minutes(going[1])\n",
    "    if first_departure > get_minutes(returning[0]):\n",
    "      first_departure = get_minutes(returning[0])\n",
    "\n",
    "  #print(total_price)\n",
    "  #print(last_arrival)\n",
    "  #print(first_departure)\n",
    "\n",
    "  total_wait = 0\n",
    "  flight_id = -1\n",
    "  for i in range(len(schedule) // 2):\n",
    "    origin = people[i][1]\n",
    "    flight_id += 1\n",
    "    going = flights[(origin, destiny)][schedule[flight_id]]\n",
    "    flight_id += 1\n",
    "    returning = flights[(destiny, origin)][schedule[flight_id]]\n",
    "\n",
    "    total_wait += last_arrival - get_minutes(going[1])\n",
    "    total_wait += get_minutes(returning[0]) - first_departure\n",
    "\n",
    "  return total_wait + total_price"
   ]
  },
  {
   "cell_type": "code",
   "execution_count": 28,
   "metadata": {
    "colab": {
     "base_uri": "https://localhost:8080/"
    },
    "id": "brOvubO-SXc9",
    "outputId": "0c8510f7-3620-4ccf-80d9-b6effdc351ac"
   },
   "outputs": [
    {
     "data": {
      "text/plain": [
       "6096"
      ]
     },
     "execution_count": 28,
     "metadata": {},
     "output_type": "execute_result"
    }
   ],
   "source": [
    "fitness_function([1,4, 3,1, 8,3, 6,3, 2,4, 5,3])"
   ]
  },
  {
   "cell_type": "code",
   "execution_count": 29,
   "metadata": {
    "colab": {
     "base_uri": "https://localhost:8080/"
    },
    "id": "MWYkH7qVSqkP",
    "outputId": "958fe007-7350-41e9-d057-5af211fbdf13"
   },
   "outputs": [
    {
     "data": {
      "text/plain": [
       "1295"
      ]
     },
     "execution_count": 29,
     "metadata": {},
     "output_type": "execute_result"
    }
   ],
   "source": [
    "get_minutes('21:35')"
   ]
  },
  {
   "cell_type": "code",
   "execution_count": 30,
   "metadata": {
    "colab": {
     "base_uri": "https://localhost:8080/"
    },
    "id": "3yrp55w8SxqF",
    "outputId": "5616db14-1f65-4f24-e238-4cb0f017399c"
   },
   "outputs": [
    {
     "data": {
      "text/plain": [
       "470"
      ]
     },
     "execution_count": 30,
     "metadata": {},
     "output_type": "execute_result"
    }
   ],
   "source": [
    "get_minutes('7:50')"
   ]
  },
  {
   "cell_type": "code",
   "execution_count": 31,
   "metadata": {
    "colab": {
     "base_uri": "https://localhost:8080/"
    },
    "id": "5n8beOkeShVm",
    "outputId": "2ab364b7-1b7a-41cf-9711-133cdd604d07"
   },
   "outputs": [
    {
     "name": "stdout",
     "output_type": "stream",
     "text": [
      "    Lisbon       LIS  7:39-10:24 U$219 12:31-14:02 U$234\n",
      "    Madrid       MAD 11:01-12:39 U$260  7:50-10:08 U$164\n",
      "     Paris       CDG 18:23-21:35 U$134 11:08-14:38 U$262\n",
      "    Dublin       DUB 15:27-17:18 U$151 10:33-12:03 U$ 74\n",
      "  Brussels       BRU  9:08-12:12 U$364 12:20-16:34 U$500\n",
      "    London       LHR 13:40-15:38 U$137 10:32-13:16 U$139\n",
      "Total price:  2638\n"
     ]
    }
   ],
   "source": [
    "print_schedule([1,4, 3,1, 8,3, 6,3, 2,4, 5,3])"
   ]
  },
  {
   "cell_type": "code",
   "execution_count": 32,
   "metadata": {
    "colab": {
     "base_uri": "https://localhost:8080/"
    },
    "id": "-B_Nln36WnW_",
    "outputId": "811fe8ca-8c5e-4348-f45a-709fecbea907"
   },
   "outputs": [
    {
     "data": {
      "text/plain": [
       "6"
      ]
     },
     "execution_count": 32,
     "metadata": {},
     "output_type": "execute_result"
    }
   ],
   "source": [
    "len(people)"
   ]
  },
  {
   "cell_type": "code",
   "execution_count": 33,
   "metadata": {
    "colab": {
     "base_uri": "https://localhost:8080/"
    },
    "id": "V-tmKapqWbm0",
    "outputId": "ae2caa3e-43cd-408f-b028-d601c1261444"
   },
   "outputs": [
    {
     "data": {
      "text/plain": [
       "[(0, 9),\n",
       " (0, 9),\n",
       " (0, 9),\n",
       " (0, 9),\n",
       " (0, 9),\n",
       " (0, 9),\n",
       " (0, 9),\n",
       " (0, 9),\n",
       " (0, 9),\n",
       " (0, 9),\n",
       " (0, 9),\n",
       " (0, 9)]"
      ]
     },
     "execution_count": 33,
     "metadata": {},
     "output_type": "execute_result"
    }
   ],
   "source": [
    "domain = [(0, 9)] * (len(people) * 2)\n",
    "domain"
   ]
  },
  {
   "cell_type": "markdown",
   "metadata": {
    "id": "pDakgRDi8e_T"
   },
   "source": [
    "# Mutation"
   ]
  },
  {
   "cell_type": "code",
   "execution_count": 34,
   "metadata": {
    "colab": {
     "base_uri": "https://localhost:8080/"
    },
    "id": "o0eHd5PgYtdS",
    "outputId": "9ea3a89f-5806-4394-b9e3-741c3fcb4cc0"
   },
   "outputs": [
    {
     "data": {
      "text/plain": [
       "11"
      ]
     },
     "execution_count": 34,
     "metadata": {},
     "output_type": "execute_result"
    }
   ],
   "source": [
    "len(domain) - 1"
   ]
  },
  {
   "cell_type": "code",
   "execution_count": 35,
   "metadata": {
    "colab": {
     "base_uri": "https://localhost:8080/"
    },
    "id": "ojhxQvSWY3Pe",
    "outputId": "ace4bb27-0675-4af0-a67c-7d377136e31f"
   },
   "outputs": [
    {
     "data": {
      "text/plain": [
       "10"
      ]
     },
     "execution_count": 35,
     "metadata": {},
     "output_type": "execute_result"
    }
   ],
   "source": [
    "random.randint(0, len(domain) - 1)"
   ]
  },
  {
   "cell_type": "code",
   "execution_count": 36,
   "metadata": {
    "colab": {
     "base_uri": "https://localhost:8080/"
    },
    "id": "C81hwHHMZTD-",
    "outputId": "abfd1a08-fb75-4ce3-83ba-4b05678c8f33"
   },
   "outputs": [
    {
     "data": {
      "text/plain": [
       "0.30234786237782263"
      ]
     },
     "execution_count": 36,
     "metadata": {},
     "output_type": "execute_result"
    }
   ],
   "source": [
    "random.random() # 50%"
   ]
  },
  {
   "cell_type": "code",
   "execution_count": 37,
   "metadata": {
    "id": "q7Es_rogYPlp"
   },
   "outputs": [],
   "source": [
    "def mutation(domain, schedule, prob):\n",
    "  gene = random.randint(0, len(domain) - 1)\n",
    "  #print(gene)\n",
    "  mutant = schedule\n",
    "  if random.random() < prob: # 0.02, 0.05\n",
    "    if schedule[gene] != domain[gene][0]:\n",
    "      mutant = schedule[0:gene] + [schedule[gene] - 1] + schedule[gene + 1:]\n",
    "    else:\n",
    "      if schedule[gene] != domain[gene][1]:\n",
    "        mutant = schedule[0:gene] + [schedule[gene] + 1] + schedule[gene + 1:]\n",
    "  return mutant"
   ]
  },
  {
   "cell_type": "code",
   "execution_count": 38,
   "metadata": {
    "colab": {
     "base_uri": "https://localhost:8080/"
    },
    "id": "Zx-ibIMQbkv7",
    "outputId": "0c956fee-4188-4cec-de28-87bc47aacc4b"
   },
   "outputs": [
    {
     "data": {
      "text/plain": [
       "[6, 7, 5, 7, 3, 9, 7, 7, 0, 7, 6, 7]"
      ]
     },
     "execution_count": 38,
     "metadata": {},
     "output_type": "execute_result"
    }
   ],
   "source": [
    "mutation(domain, [6, 7, 6, 7, 3, 9, 7, 7, 0, 7, 6, 7], 0.9)"
   ]
  },
  {
   "cell_type": "markdown",
   "metadata": {
    "id": "dEH0j8yp8gQ5"
   },
   "source": [
    "# Crossover"
   ]
  },
  {
   "cell_type": "code",
   "execution_count": 39,
   "metadata": {
    "id": "MHe0aHxJd4Ha"
   },
   "outputs": [],
   "source": [
    "# [6, 7, 6, 7, 3, 9, 7, 7, 0, 7, 6, 7]"
   ]
  },
  {
   "cell_type": "code",
   "execution_count": 40,
   "metadata": {
    "colab": {
     "base_uri": "https://localhost:8080/"
    },
    "id": "u8RcczyPeFCp",
    "outputId": "3709c784-f51e-4fef-ea24-e987922f03bc"
   },
   "outputs": [
    {
     "data": {
      "text/plain": [
       "8"
      ]
     },
     "execution_count": 40,
     "metadata": {},
     "output_type": "execute_result"
    }
   ],
   "source": [
    "random.randint(1, len(domain) - 2)"
   ]
  },
  {
   "cell_type": "code",
   "execution_count": 41,
   "metadata": {
    "id": "P8onTmORdCWW"
   },
   "outputs": [],
   "source": [
    "def crossover(domain, individual1, individual2):\n",
    "  gene = random.randint(1, len(domain) - 2)\n",
    "  #print(gene)\n",
    "  return individual1[0:gene] + individual2[gene:]"
   ]
  },
  {
   "cell_type": "code",
   "execution_count": 42,
   "metadata": {
    "id": "dmJ2kKCOeYTz"
   },
   "outputs": [],
   "source": [
    "s1 = [1,4, 3,2, 7,3, 6,3, 2,4, 5,3]\n",
    "s2 = [0,1, 2,5, 8,9, 2,3, 5,1, 0,6]"
   ]
  },
  {
   "cell_type": "code",
   "execution_count": 43,
   "metadata": {
    "colab": {
     "base_uri": "https://localhost:8080/"
    },
    "id": "HjaYSK0qeaWM",
    "outputId": "6f74a4a1-82e8-4d23-fb15-ebf43be0796a"
   },
   "outputs": [
    {
     "data": {
      "text/plain": [
       "[1, 4, 3, 5, 8, 9, 2, 3, 5, 1, 0, 6]"
      ]
     },
     "execution_count": 43,
     "metadata": {},
     "output_type": "execute_result"
    }
   ],
   "source": [
    "crossover(domain, s1, s2)"
   ]
  },
  {
   "cell_type": "markdown",
   "metadata": {
    "id": "BP4Ahx0J8jI-"
   },
   "source": [
    "# Genetic algorithm"
   ]
  },
  {
   "cell_type": "code",
   "execution_count": 44,
   "metadata": {
    "colab": {
     "base_uri": "https://localhost:8080/"
    },
    "id": "fvWCA-SLjdO4",
    "outputId": "34cd6025-90b7-4f47-fbdd-00a2d39ce223"
   },
   "outputs": [
    {
     "data": {
      "text/plain": [
       "[(0, 9),\n",
       " (0, 9),\n",
       " (0, 9),\n",
       " (0, 9),\n",
       " (0, 9),\n",
       " (0, 9),\n",
       " (0, 9),\n",
       " (0, 9),\n",
       " (0, 9),\n",
       " (0, 9),\n",
       " (0, 9),\n",
       " (0, 9)]"
      ]
     },
     "execution_count": 44,
     "metadata": {},
     "output_type": "execute_result"
    }
   ],
   "source": [
    "domain"
   ]
  },
  {
   "cell_type": "code",
   "execution_count": 45,
   "metadata": {
    "id": "x6JveBSviTtS"
   },
   "outputs": [],
   "source": [
    "def genetic_algorithm(domain, fitness_function, population_size = 100, elitism = 0.2,\n",
    "                      number_of_generations = 500, mutation_probability = 0.05):\n",
    "  population = []\n",
    "  for i in range(population_size):\n",
    "    individual = [random.randint(domain[i][0], domain[i][1]) for i in range(len(domain))]\n",
    "    population.append(individual)\n",
    "  #print('Population size', len(population))\n",
    "  #print(len(population))\n",
    "  number_elitism = int(elitism * population_size)\n",
    "  #print(number_elitism)\n",
    "\n",
    "  for i in range(number_of_generations):\n",
    "    costs = [(fitness_function(individual), individual) for individual in population]\n",
    "    #print(costs)\n",
    "    costs.sort()\n",
    "    #print(costs)\n",
    "    ordered_individuals = [individual for (cost, individual) in costs]\n",
    "    #print(ordered_individuals)\n",
    "    population = ordered_individuals[0:number_elitism]\n",
    "    while len(population) < population_size:\n",
    "      i1 = random.randint(0, number_elitism)\n",
    "      i2 = random.randint(0, number_elitism)\n",
    "      #print(i1, i2, ordered_individuals[i1], ordered_individuals[i2])\n",
    "      new_individual = crossover(domain, ordered_individuals[i1], ordered_individuals[i2])\n",
    "      #print(new_individual)\n",
    "      new_individual_mutation = mutation(domain, new_individual, mutation_probability)\n",
    "      #print(new_individual_mutation)\n",
    "      population.append(new_individual_mutation)\n",
    "  \n",
    "  #print('Population size', len(population))\n",
    "  #print(costs)\n",
    "  return costs[0][1]"
   ]
  },
  {
   "cell_type": "code",
   "execution_count": 46,
   "metadata": {
    "id": "nq7cQJrXkEml"
   },
   "outputs": [],
   "source": [
    "solution = genetic_algorithm(domain, fitness_function, 100, 0.2, 100, 0.05)"
   ]
  },
  {
   "cell_type": "code",
   "execution_count": 47,
   "metadata": {
    "colab": {
     "base_uri": "https://localhost:8080/"
    },
    "id": "v49VJP7ku-m3",
    "outputId": "c292ef79-a71e-4c58-95a2-f7acc4a174ed"
   },
   "outputs": [
    {
     "data": {
      "text/plain": [
       "[6, 3, 6, 3, 6, 4, 7, 3, 3, 3, 5, 3]"
      ]
     },
     "execution_count": 47,
     "metadata": {},
     "output_type": "execute_result"
    }
   ],
   "source": [
    "solution"
   ]
  },
  {
   "cell_type": "code",
   "execution_count": 48,
   "metadata": {
    "colab": {
     "base_uri": "https://localhost:8080/"
    },
    "id": "jesViyPzvBOj",
    "outputId": "56e21f17-82f9-470f-f3db-bbf5ee7d7836"
   },
   "outputs": [
    {
     "data": {
      "text/plain": [
       "2854"
      ]
     },
     "execution_count": 48,
     "metadata": {},
     "output_type": "execute_result"
    }
   ],
   "source": [
    "fitness_function(solution)"
   ]
  },
  {
   "cell_type": "code",
   "execution_count": 49,
   "metadata": {
    "colab": {
     "base_uri": "https://localhost:8080/"
    },
    "id": "m9OFlqbzvkKP",
    "outputId": "1380837a-ccd3-4d48-a993-e52e9bec42d8"
   },
   "outputs": [
    {
     "name": "stdout",
     "output_type": "stream",
     "text": [
      "    Lisbon       LIS 15:03-16:42 U$135 11:07-13:24 U$171\n",
      "    Madrid       MAD 15:58-18:40 U$173 10:33-13:11 U$132\n",
      "     Paris       CDG 15:34-18:11 U$326 12:37-15:05 U$170\n",
      "    Dublin       DUB 17:11-18:30 U$108 10:33-12:03 U$ 74\n",
      "  Brussels       BRU 10:30-14:57 U$290 10:51-14:16 U$256\n",
      "    London       LHR 13:40-15:38 U$137 10:32-13:16 U$139\n",
      "Total price:  2111\n"
     ]
    }
   ],
   "source": [
    "print_schedule(solution)"
   ]
  }
 ],
 "metadata": {
  "colab": {
   "provenance": []
  },
  "kernelspec": {
   "display_name": "Python 3 (ipykernel)",
   "language": "python",
   "name": "python3"
  },
  "language_info": {
   "codemirror_mode": {
    "name": "ipython",
    "version": 3
   },
   "file_extension": ".py",
   "mimetype": "text/x-python",
   "name": "python",
   "nbconvert_exporter": "python",
   "pygments_lexer": "ipython3",
   "version": "3.8.12"
  }
 },
 "nbformat": 4,
 "nbformat_minor": 4
}
